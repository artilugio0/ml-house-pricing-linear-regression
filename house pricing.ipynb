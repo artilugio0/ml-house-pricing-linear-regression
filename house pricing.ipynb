{
 "cells": [
  {
   "cell_type": "markdown",
   "id": "acb4ebb0-a408-49da-b84f-94f67055e5ff",
   "metadata": {},
   "source": [
    "# House pricing ML model project\n",
    "\n",
    "This project is based on chapter 2 of the book \"Hands On Machine Learning with Scikit-Lear, Keras and Tensorflow\".\n",
    "\n",
    "The purpose of the project is to create a model capable of predicting house prices for each district in California based on the California sensus dataset."
   ]
  },
  {
   "cell_type": "code",
   "execution_count": 1,
   "id": "653cd7c7-2ace-468b-9c2a-16517d30f7a2",
   "metadata": {},
   "outputs": [],
   "source": [
    "import numpy as np\n",
    "import pandas as pd\n",
    "import matplotlib.pyplot as plt"
   ]
  },
  {
   "cell_type": "markdown",
   "id": "ffd1e7ab-48a7-40d3-9d7d-8dce817e73d8",
   "metadata": {},
   "source": [
    "## Downloading the data"
   ]
  },
  {
   "cell_type": "code",
   "execution_count": 2,
   "id": "e5a4e4a3-0a67-4383-a236-af755a9d30ba",
   "metadata": {},
   "outputs": [],
   "source": [
    "from pathlib import Path\n",
    "import tarfile\n",
    "import urllib.request\n",
    "\n",
    "def load_housing_data():\n",
    "    tarball_path = Path(\"datasets/housing.tgz\")\n",
    "    if not tarball_path.is_file():\n",
    "        Path(\"datasets\").mkdir(parents=True, exist_ok=True)\n",
    "        url = \"https://github.com/ageron/data/raw/main/housing.tgz\"\n",
    "        urllib.request.urlretrieve(url, tarball_path)\n",
    "        with tarfile.open(tarball_path) as housing_tarball:\n",
    "            housing_tarball.extractall(path=\"datasets\")\n",
    "    return pd.read_csv(Path(\"datasets/housing/housing.csv\"))\n",
    "\n",
    "housing = load_housing_data()"
   ]
  },
  {
   "cell_type": "markdown",
   "id": "9c0e2ffa-cc08-45f2-9674-69a421ae3700",
   "metadata": {},
   "source": [
    "## Inspecting the data"
   ]
  },
  {
   "cell_type": "code",
   "execution_count": 3,
   "id": "28af49ef-0e24-4a2c-a3dc-b09f6a71135e",
   "metadata": {},
   "outputs": [
    {
     "data": {
      "text/html": [
       "<div>\n",
       "<style scoped>\n",
       "    .dataframe tbody tr th:only-of-type {\n",
       "        vertical-align: middle;\n",
       "    }\n",
       "\n",
       "    .dataframe tbody tr th {\n",
       "        vertical-align: top;\n",
       "    }\n",
       "\n",
       "    .dataframe thead th {\n",
       "        text-align: right;\n",
       "    }\n",
       "</style>\n",
       "<table border=\"1\" class=\"dataframe\">\n",
       "  <thead>\n",
       "    <tr style=\"text-align: right;\">\n",
       "      <th></th>\n",
       "      <th>longitude</th>\n",
       "      <th>latitude</th>\n",
       "      <th>housing_median_age</th>\n",
       "      <th>total_rooms</th>\n",
       "      <th>total_bedrooms</th>\n",
       "      <th>population</th>\n",
       "      <th>households</th>\n",
       "      <th>median_income</th>\n",
       "      <th>median_house_value</th>\n",
       "      <th>ocean_proximity</th>\n",
       "    </tr>\n",
       "  </thead>\n",
       "  <tbody>\n",
       "    <tr>\n",
       "      <th>0</th>\n",
       "      <td>-122.23</td>\n",
       "      <td>37.88</td>\n",
       "      <td>41.0</td>\n",
       "      <td>880.0</td>\n",
       "      <td>129.0</td>\n",
       "      <td>322.0</td>\n",
       "      <td>126.0</td>\n",
       "      <td>8.3252</td>\n",
       "      <td>452600.0</td>\n",
       "      <td>NEAR BAY</td>\n",
       "    </tr>\n",
       "    <tr>\n",
       "      <th>1</th>\n",
       "      <td>-122.22</td>\n",
       "      <td>37.86</td>\n",
       "      <td>21.0</td>\n",
       "      <td>7099.0</td>\n",
       "      <td>1106.0</td>\n",
       "      <td>2401.0</td>\n",
       "      <td>1138.0</td>\n",
       "      <td>8.3014</td>\n",
       "      <td>358500.0</td>\n",
       "      <td>NEAR BAY</td>\n",
       "    </tr>\n",
       "    <tr>\n",
       "      <th>2</th>\n",
       "      <td>-122.24</td>\n",
       "      <td>37.85</td>\n",
       "      <td>52.0</td>\n",
       "      <td>1467.0</td>\n",
       "      <td>190.0</td>\n",
       "      <td>496.0</td>\n",
       "      <td>177.0</td>\n",
       "      <td>7.2574</td>\n",
       "      <td>352100.0</td>\n",
       "      <td>NEAR BAY</td>\n",
       "    </tr>\n",
       "    <tr>\n",
       "      <th>3</th>\n",
       "      <td>-122.25</td>\n",
       "      <td>37.85</td>\n",
       "      <td>52.0</td>\n",
       "      <td>1274.0</td>\n",
       "      <td>235.0</td>\n",
       "      <td>558.0</td>\n",
       "      <td>219.0</td>\n",
       "      <td>5.6431</td>\n",
       "      <td>341300.0</td>\n",
       "      <td>NEAR BAY</td>\n",
       "    </tr>\n",
       "    <tr>\n",
       "      <th>4</th>\n",
       "      <td>-122.25</td>\n",
       "      <td>37.85</td>\n",
       "      <td>52.0</td>\n",
       "      <td>1627.0</td>\n",
       "      <td>280.0</td>\n",
       "      <td>565.0</td>\n",
       "      <td>259.0</td>\n",
       "      <td>3.8462</td>\n",
       "      <td>342200.0</td>\n",
       "      <td>NEAR BAY</td>\n",
       "    </tr>\n",
       "  </tbody>\n",
       "</table>\n",
       "</div>"
      ],
      "text/plain": [
       "   longitude  latitude  housing_median_age  total_rooms  total_bedrooms  \\\n",
       "0    -122.23     37.88                41.0        880.0           129.0   \n",
       "1    -122.22     37.86                21.0       7099.0          1106.0   \n",
       "2    -122.24     37.85                52.0       1467.0           190.0   \n",
       "3    -122.25     37.85                52.0       1274.0           235.0   \n",
       "4    -122.25     37.85                52.0       1627.0           280.0   \n",
       "\n",
       "   population  households  median_income  median_house_value ocean_proximity  \n",
       "0       322.0       126.0         8.3252            452600.0        NEAR BAY  \n",
       "1      2401.0      1138.0         8.3014            358500.0        NEAR BAY  \n",
       "2       496.0       177.0         7.2574            352100.0        NEAR BAY  \n",
       "3       558.0       219.0         5.6431            341300.0        NEAR BAY  \n",
       "4       565.0       259.0         3.8462            342200.0        NEAR BAY  "
      ]
     },
     "execution_count": 3,
     "metadata": {},
     "output_type": "execute_result"
    }
   ],
   "source": [
    "housing.head()"
   ]
  },
  {
   "cell_type": "code",
   "execution_count": 4,
   "id": "c968ae98-1267-468a-9c53-49d834ad8baf",
   "metadata": {},
   "outputs": [
    {
     "name": "stdout",
     "output_type": "stream",
     "text": [
      "<class 'pandas.core.frame.DataFrame'>\n",
      "RangeIndex: 20640 entries, 0 to 20639\n",
      "Data columns (total 10 columns):\n",
      " #   Column              Non-Null Count  Dtype  \n",
      "---  ------              --------------  -----  \n",
      " 0   longitude           20640 non-null  float64\n",
      " 1   latitude            20640 non-null  float64\n",
      " 2   housing_median_age  20640 non-null  float64\n",
      " 3   total_rooms         20640 non-null  float64\n",
      " 4   total_bedrooms      20433 non-null  float64\n",
      " 5   population          20640 non-null  float64\n",
      " 6   households          20640 non-null  float64\n",
      " 7   median_income       20640 non-null  float64\n",
      " 8   median_house_value  20640 non-null  float64\n",
      " 9   ocean_proximity     20640 non-null  object \n",
      "dtypes: float64(9), object(1)\n",
      "memory usage: 1.6+ MB\n"
     ]
    }
   ],
   "source": [
    "housing.info()"
   ]
  },
  {
   "cell_type": "markdown",
   "id": "ffc3fbf0-0100-4288-a716-d9b7a70853b7",
   "metadata": {},
   "source": [
    "`ocean_proximity` is the only column that is not numeric. Let's look at its values"
   ]
  },
  {
   "cell_type": "code",
   "execution_count": 5,
   "id": "1999e6c8-a3d9-414c-9902-3b431411e8c4",
   "metadata": {},
   "outputs": [
    {
     "data": {
      "text/plain": [
       "ocean_proximity\n",
       "<1H OCEAN     9136\n",
       "INLAND        6551\n",
       "NEAR OCEAN    2658\n",
       "NEAR BAY      2290\n",
       "ISLAND           5\n",
       "Name: count, dtype: int64"
      ]
     },
     "execution_count": 5,
     "metadata": {},
     "output_type": "execute_result"
    }
   ],
   "source": [
    "housing['ocean_proximity'].value_counts()"
   ]
  },
  {
   "cell_type": "markdown",
   "id": "66aeaf0a-37db-42f8-87d9-d071666087eb",
   "metadata": {},
   "source": [
    "Now, lets get a sense for the numeric values"
   ]
  },
  {
   "cell_type": "code",
   "execution_count": 6,
   "id": "f15e76d9-0993-4c6e-8848-a80d8e7a76b6",
   "metadata": {},
   "outputs": [
    {
     "data": {
      "text/html": [
       "<div>\n",
       "<style scoped>\n",
       "    .dataframe tbody tr th:only-of-type {\n",
       "        vertical-align: middle;\n",
       "    }\n",
       "\n",
       "    .dataframe tbody tr th {\n",
       "        vertical-align: top;\n",
       "    }\n",
       "\n",
       "    .dataframe thead th {\n",
       "        text-align: right;\n",
       "    }\n",
       "</style>\n",
       "<table border=\"1\" class=\"dataframe\">\n",
       "  <thead>\n",
       "    <tr style=\"text-align: right;\">\n",
       "      <th></th>\n",
       "      <th>longitude</th>\n",
       "      <th>latitude</th>\n",
       "      <th>housing_median_age</th>\n",
       "      <th>total_rooms</th>\n",
       "      <th>total_bedrooms</th>\n",
       "      <th>population</th>\n",
       "      <th>households</th>\n",
       "      <th>median_income</th>\n",
       "      <th>median_house_value</th>\n",
       "    </tr>\n",
       "  </thead>\n",
       "  <tbody>\n",
       "    <tr>\n",
       "      <th>count</th>\n",
       "      <td>20640.000000</td>\n",
       "      <td>20640.000000</td>\n",
       "      <td>20640.000000</td>\n",
       "      <td>20640.000000</td>\n",
       "      <td>20433.000000</td>\n",
       "      <td>20640.000000</td>\n",
       "      <td>20640.000000</td>\n",
       "      <td>20640.000000</td>\n",
       "      <td>20640.000000</td>\n",
       "    </tr>\n",
       "    <tr>\n",
       "      <th>mean</th>\n",
       "      <td>-119.569704</td>\n",
       "      <td>35.631861</td>\n",
       "      <td>28.639486</td>\n",
       "      <td>2635.763081</td>\n",
       "      <td>537.870553</td>\n",
       "      <td>1425.476744</td>\n",
       "      <td>499.539680</td>\n",
       "      <td>3.870671</td>\n",
       "      <td>206855.816909</td>\n",
       "    </tr>\n",
       "    <tr>\n",
       "      <th>std</th>\n",
       "      <td>2.003532</td>\n",
       "      <td>2.135952</td>\n",
       "      <td>12.585558</td>\n",
       "      <td>2181.615252</td>\n",
       "      <td>421.385070</td>\n",
       "      <td>1132.462122</td>\n",
       "      <td>382.329753</td>\n",
       "      <td>1.899822</td>\n",
       "      <td>115395.615874</td>\n",
       "    </tr>\n",
       "    <tr>\n",
       "      <th>min</th>\n",
       "      <td>-124.350000</td>\n",
       "      <td>32.540000</td>\n",
       "      <td>1.000000</td>\n",
       "      <td>2.000000</td>\n",
       "      <td>1.000000</td>\n",
       "      <td>3.000000</td>\n",
       "      <td>1.000000</td>\n",
       "      <td>0.499900</td>\n",
       "      <td>14999.000000</td>\n",
       "    </tr>\n",
       "    <tr>\n",
       "      <th>25%</th>\n",
       "      <td>-121.800000</td>\n",
       "      <td>33.930000</td>\n",
       "      <td>18.000000</td>\n",
       "      <td>1447.750000</td>\n",
       "      <td>296.000000</td>\n",
       "      <td>787.000000</td>\n",
       "      <td>280.000000</td>\n",
       "      <td>2.563400</td>\n",
       "      <td>119600.000000</td>\n",
       "    </tr>\n",
       "    <tr>\n",
       "      <th>50%</th>\n",
       "      <td>-118.490000</td>\n",
       "      <td>34.260000</td>\n",
       "      <td>29.000000</td>\n",
       "      <td>2127.000000</td>\n",
       "      <td>435.000000</td>\n",
       "      <td>1166.000000</td>\n",
       "      <td>409.000000</td>\n",
       "      <td>3.534800</td>\n",
       "      <td>179700.000000</td>\n",
       "    </tr>\n",
       "    <tr>\n",
       "      <th>75%</th>\n",
       "      <td>-118.010000</td>\n",
       "      <td>37.710000</td>\n",
       "      <td>37.000000</td>\n",
       "      <td>3148.000000</td>\n",
       "      <td>647.000000</td>\n",
       "      <td>1725.000000</td>\n",
       "      <td>605.000000</td>\n",
       "      <td>4.743250</td>\n",
       "      <td>264725.000000</td>\n",
       "    </tr>\n",
       "    <tr>\n",
       "      <th>max</th>\n",
       "      <td>-114.310000</td>\n",
       "      <td>41.950000</td>\n",
       "      <td>52.000000</td>\n",
       "      <td>39320.000000</td>\n",
       "      <td>6445.000000</td>\n",
       "      <td>35682.000000</td>\n",
       "      <td>6082.000000</td>\n",
       "      <td>15.000100</td>\n",
       "      <td>500001.000000</td>\n",
       "    </tr>\n",
       "  </tbody>\n",
       "</table>\n",
       "</div>"
      ],
      "text/plain": [
       "          longitude      latitude  housing_median_age   total_rooms  \\\n",
       "count  20640.000000  20640.000000        20640.000000  20640.000000   \n",
       "mean    -119.569704     35.631861           28.639486   2635.763081   \n",
       "std        2.003532      2.135952           12.585558   2181.615252   \n",
       "min     -124.350000     32.540000            1.000000      2.000000   \n",
       "25%     -121.800000     33.930000           18.000000   1447.750000   \n",
       "50%     -118.490000     34.260000           29.000000   2127.000000   \n",
       "75%     -118.010000     37.710000           37.000000   3148.000000   \n",
       "max     -114.310000     41.950000           52.000000  39320.000000   \n",
       "\n",
       "       total_bedrooms    population    households  median_income  \\\n",
       "count    20433.000000  20640.000000  20640.000000   20640.000000   \n",
       "mean       537.870553   1425.476744    499.539680       3.870671   \n",
       "std        421.385070   1132.462122    382.329753       1.899822   \n",
       "min          1.000000      3.000000      1.000000       0.499900   \n",
       "25%        296.000000    787.000000    280.000000       2.563400   \n",
       "50%        435.000000   1166.000000    409.000000       3.534800   \n",
       "75%        647.000000   1725.000000    605.000000       4.743250   \n",
       "max       6445.000000  35682.000000   6082.000000      15.000100   \n",
       "\n",
       "       median_house_value  \n",
       "count        20640.000000  \n",
       "mean        206855.816909  \n",
       "std         115395.615874  \n",
       "min          14999.000000  \n",
       "25%         119600.000000  \n",
       "50%         179700.000000  \n",
       "75%         264725.000000  \n",
       "max         500001.000000  "
      ]
     },
     "execution_count": 6,
     "metadata": {},
     "output_type": "execute_result"
    }
   ],
   "source": [
    "housing.describe()"
   ]
  },
  {
   "cell_type": "markdown",
   "id": "aa73bade-f42c-4b94-8449-d3fbb57c3b01",
   "metadata": {},
   "source": [
    "The `min` row is suspicious, it looks like there might be at least a district with invalid data, 3 people in a district does not make sense"
   ]
  },
  {
   "cell_type": "code",
   "execution_count": 7,
   "id": "df36a8a4-0ae3-49d4-a0cc-904daed80eba",
   "metadata": {},
   "outputs": [
    {
     "data": {
      "text/plain": [
       "array([[<Axes: title={'center': 'longitude'}>,\n",
       "        <Axes: title={'center': 'latitude'}>,\n",
       "        <Axes: title={'center': 'housing_median_age'}>],\n",
       "       [<Axes: title={'center': 'total_rooms'}>,\n",
       "        <Axes: title={'center': 'total_bedrooms'}>,\n",
       "        <Axes: title={'center': 'population'}>],\n",
       "       [<Axes: title={'center': 'households'}>,\n",
       "        <Axes: title={'center': 'median_income'}>,\n",
       "        <Axes: title={'center': 'median_house_value'}>]], dtype=object)"
      ]
     },
     "execution_count": 7,
     "metadata": {},
     "output_type": "execute_result"
    },
    {
     "data": {
      "image/png": "[encoded data removed]",
      "text/plain": [
       "<Figure size 1500x800 with 9 Axes>"
      ]
     },
     "metadata": {},
     "output_type": "display_data"
    }
   ],
   "source": [
    "housing.hist(bins=50, figsize=(15,8))"
   ]
  },
  {
   "cell_type": "markdown",
   "id": "8fca623f-603c-4cf0-9103-fd7a2be7e891",
   "metadata": {},
   "source": [
    "### Some initial observations\n",
    "* Some attributes are preprocessed:\n",
    "  * `median_income` has been scaled and capped between 0.4999 and 15.0001\n",
    "  * `median_hose_value` has been capped to 500000, which explains the spike, and might be a problem because it is the target attribute\n",
    "  * `housing_median_age` has been capped\n",
    "* The attributes have different scales\n",
    "* Many of the histograms are skewed right "
   ]
  },
  {
   "cell_type": "markdown",
   "id": "de912ecd-b8c5-4a5b-8705-dd0ba5e4fd1d",
   "metadata": {},
   "source": [
    "## Train / Test sets"
   ]
  },
  {
   "cell_type": "markdown",
   "id": "0ceacb7d-d325-4383-9dd6-dd9d4aad76cf",
   "metadata": {},
   "source": [
    "Define a function to shuffle the housing data and split it into two sets according to the specified ratio"
   ]
  },
  {
   "cell_type": "code",
   "execution_count": 8,
   "id": "2d5e656b-58af-45c6-a79b-b538d9b8ff83",
   "metadata": {},
   "outputs": [
    {
     "name": "stdout",
     "output_type": "stream",
     "text": [
      "(20640, 10)\n",
      "(4128, 10)\n",
      "(16512, 10)\n"
     ]
    },
    {
     "data": {
      "text/html": [
       "<div>\n",
       "<style scoped>\n",
       "    .dataframe tbody tr th:only-of-type {\n",
       "        vertical-align: middle;\n",
       "    }\n",
       "\n",
       "    .dataframe tbody tr th {\n",
       "        vertical-align: top;\n",
       "    }\n",
       "\n",
       "    .dataframe thead th {\n",
       "        text-align: right;\n",
       "    }\n",
       "</style>\n",
       "<table border=\"1\" class=\"dataframe\">\n",
       "  <thead>\n",
       "    <tr style=\"text-align: right;\">\n",
       "      <th></th>\n",
       "      <th>longitude</th>\n",
       "      <th>latitude</th>\n",
       "      <th>housing_median_age</th>\n",
       "      <th>total_rooms</th>\n",
       "      <th>total_bedrooms</th>\n",
       "      <th>population</th>\n",
       "      <th>households</th>\n",
       "      <th>median_income</th>\n",
       "      <th>median_house_value</th>\n",
       "      <th>ocean_proximity</th>\n",
       "    </tr>\n",
       "  </thead>\n",
       "  <tbody>\n",
       "    <tr>\n",
       "      <th>1933</th>\n",
       "      <td>-118.21</td>\n",
       "      <td>34.56</td>\n",
       "      <td>12.0</td>\n",
       "      <td>2472.0</td>\n",
       "      <td>408.0</td>\n",
       "      <td>1048.0</td>\n",
       "      <td>380.0</td>\n",
       "      <td>4.7097</td>\n",
       "      <td>262100.0</td>\n",
       "      <td>INLAND</td>\n",
       "    </tr>\n",
       "    <tr>\n",
       "      <th>8241</th>\n",
       "      <td>-124.19</td>\n",
       "      <td>40.77</td>\n",
       "      <td>30.0</td>\n",
       "      <td>2975.0</td>\n",
       "      <td>634.0</td>\n",
       "      <td>1367.0</td>\n",
       "      <td>583.0</td>\n",
       "      <td>2.4420</td>\n",
       "      <td>69000.0</td>\n",
       "      <td>NEAR OCEAN</td>\n",
       "    </tr>\n",
       "    <tr>\n",
       "      <th>20418</th>\n",
       "      <td>-119.18</td>\n",
       "      <td>34.24</td>\n",
       "      <td>17.0</td>\n",
       "      <td>629.0</td>\n",
       "      <td>221.0</td>\n",
       "      <td>514.0</td>\n",
       "      <td>186.0</td>\n",
       "      <td>3.2847</td>\n",
       "      <td>112500.0</td>\n",
       "      <td>NEAR OCEAN</td>\n",
       "    </tr>\n",
       "    <tr>\n",
       "      <th>4044</th>\n",
       "      <td>-119.37</td>\n",
       "      <td>36.35</td>\n",
       "      <td>20.0</td>\n",
       "      <td>1132.0</td>\n",
       "      <td>177.0</td>\n",
       "      <td>518.0</td>\n",
       "      <td>178.0</td>\n",
       "      <td>5.3767</td>\n",
       "      <td>231300.0</td>\n",
       "      <td>INLAND</td>\n",
       "    </tr>\n",
       "    <tr>\n",
       "      <th>9897</th>\n",
       "      <td>-118.56</td>\n",
       "      <td>34.25</td>\n",
       "      <td>31.0</td>\n",
       "      <td>1962.0</td>\n",
       "      <td>243.0</td>\n",
       "      <td>697.0</td>\n",
       "      <td>242.0</td>\n",
       "      <td>8.5650</td>\n",
       "      <td>500001.0</td>\n",
       "      <td>&lt;1H OCEAN</td>\n",
       "    </tr>\n",
       "  </tbody>\n",
       "</table>\n",
       "</div>"
      ],
      "text/plain": [
       "       longitude  latitude  housing_median_age  total_rooms  total_bedrooms  \\\n",
       "1933     -118.21     34.56                12.0       2472.0           408.0   \n",
       "8241     -124.19     40.77                30.0       2975.0           634.0   \n",
       "20418    -119.18     34.24                17.0        629.0           221.0   \n",
       "4044     -119.37     36.35                20.0       1132.0           177.0   \n",
       "9897     -118.56     34.25                31.0       1962.0           243.0   \n",
       "\n",
       "       population  households  median_income  median_house_value  \\\n",
       "1933       1048.0       380.0         4.7097            262100.0   \n",
       "8241       1367.0       583.0         2.4420             69000.0   \n",
       "20418       514.0       186.0         3.2847            112500.0   \n",
       "4044        518.0       178.0         5.3767            231300.0   \n",
       "9897        697.0       242.0         8.5650            500001.0   \n",
       "\n",
       "      ocean_proximity  \n",
       "1933           INLAND  \n",
       "8241       NEAR OCEAN  \n",
       "20418      NEAR OCEAN  \n",
       "4044           INLAND  \n",
       "9897        <1H OCEAN  "
      ]
     },
     "execution_count": 8,
     "metadata": {},
     "output_type": "execute_result"
    }
   ],
   "source": [
    "def shuffle_and_split_data(data, test_ratio):\n",
    "    shuffled_indeces = np.random.permutation(len(data))\n",
    "    test_set_size = int(len(data) * test_ratio)\n",
    "    test_indeces = shuffled_indeces[:test_set_size]\n",
    "    train_indeces = shuffled_indeces[test_set_size:]\n",
    "    return data.iloc[train_indeces], data.iloc[test_indeces]\n",
    "\n",
    "train_set, test_set = shuffle_and_split_data(housing, 0.2)\n",
    "\n",
    "print(housing.shape)\n",
    "print(test_set.shape)\n",
    "print(train_set.shape)\n",
    "train_set.head()"
   ]
  },
  {
   "cell_type": "markdown",
   "id": "ee48e6ec-2e48-45bb-8cdc-ddc9a683f2ee",
   "metadata": {},
   "source": [
    "The downside of this approach is that it is not deterministic, and the split will change for each execution.\n",
    "\n",
    "A solution to this problem is to set the randomness seed, so that we get the same results each time:"
   ]
  },
  {
   "cell_type": "code",
   "execution_count": 9,
   "id": "eeb6514f-69ec-4798-b46b-b6d2684c0759",
   "metadata": {},
   "outputs": [],
   "source": [
    "def shuffle_and_split_data(data, test_ratio):\n",
    "    np.random.seed(42)\n",
    "    \n",
    "    shuffled_indeces = np.random.permutation(len(data))\n",
    "    test_set_size = int(len(data) * test_ratio)\n",
    "    test_indeces = shuffled_indeces[:test_set_size]\n",
    "    train_indeces = shuffled_indeces[test_set_size:]\n",
    "    return data.iloc[train_indeces], data.iloc[test_indeces]\n"
   ]
  },
  {
   "cell_type": "code",
   "execution_count": 10,
   "id": "a56190a6-24d9-404c-985c-a2275b237deb",
   "metadata": {},
   "outputs": [
    {
     "data": {
      "text/html": [
       "<div>\n",
       "<style scoped>\n",
       "    .dataframe tbody tr th:only-of-type {\n",
       "        vertical-align: middle;\n",
       "    }\n",
       "\n",
       "    .dataframe tbody tr th {\n",
       "        vertical-align: top;\n",
       "    }\n",
       "\n",
       "    .dataframe thead th {\n",
       "        text-align: right;\n",
       "    }\n",
       "</style>\n",
       "<table border=\"1\" class=\"dataframe\">\n",
       "  <thead>\n",
       "    <tr style=\"text-align: right;\">\n",
       "      <th></th>\n",
       "      <th>longitude</th>\n",
       "      <th>latitude</th>\n",
       "      <th>housing_median_age</th>\n",
       "      <th>total_rooms</th>\n",
       "      <th>total_bedrooms</th>\n",
       "      <th>population</th>\n",
       "      <th>households</th>\n",
       "      <th>median_income</th>\n",
       "      <th>median_house_value</th>\n",
       "      <th>ocean_proximity</th>\n",
       "    </tr>\n",
       "  </thead>\n",
       "  <tbody>\n",
       "    <tr>\n",
       "      <th>14196</th>\n",
       "      <td>-117.22</td>\n",
       "      <td>32.75</td>\n",
       "      <td>34.0</td>\n",
       "      <td>6001.0</td>\n",
       "      <td>1111.0</td>\n",
       "      <td>2654.0</td>\n",
       "      <td>1072.0</td>\n",
       "      <td>4.5878</td>\n",
       "      <td>291000.0</td>\n",
       "      <td>NEAR OCEAN</td>\n",
       "    </tr>\n",
       "    <tr>\n",
       "      <th>8267</th>\n",
       "      <td>-117.03</td>\n",
       "      <td>32.69</td>\n",
       "      <td>10.0</td>\n",
       "      <td>901.0</td>\n",
       "      <td>163.0</td>\n",
       "      <td>698.0</td>\n",
       "      <td>167.0</td>\n",
       "      <td>4.6648</td>\n",
       "      <td>156100.0</td>\n",
       "      <td>NEAR OCEAN</td>\n",
       "    </tr>\n",
       "    <tr>\n",
       "      <th>17445</th>\n",
       "      <td>-122.27</td>\n",
       "      <td>37.74</td>\n",
       "      <td>28.0</td>\n",
       "      <td>6909.0</td>\n",
       "      <td>1554.0</td>\n",
       "      <td>2974.0</td>\n",
       "      <td>1484.0</td>\n",
       "      <td>3.6875</td>\n",
       "      <td>353900.0</td>\n",
       "      <td>NEAR BAY</td>\n",
       "    </tr>\n",
       "    <tr>\n",
       "      <th>14265</th>\n",
       "      <td>-121.82</td>\n",
       "      <td>37.25</td>\n",
       "      <td>25.0</td>\n",
       "      <td>4021.0</td>\n",
       "      <td>634.0</td>\n",
       "      <td>2178.0</td>\n",
       "      <td>650.0</td>\n",
       "      <td>5.1663</td>\n",
       "      <td>241200.0</td>\n",
       "      <td>&lt;1H OCEAN</td>\n",
       "    </tr>\n",
       "    <tr>\n",
       "      <th>2271</th>\n",
       "      <td>-115.98</td>\n",
       "      <td>33.32</td>\n",
       "      <td>8.0</td>\n",
       "      <td>240.0</td>\n",
       "      <td>46.0</td>\n",
       "      <td>63.0</td>\n",
       "      <td>24.0</td>\n",
       "      <td>1.4688</td>\n",
       "      <td>53800.0</td>\n",
       "      <td>INLAND</td>\n",
       "    </tr>\n",
       "  </tbody>\n",
       "</table>\n",
       "</div>"
      ],
      "text/plain": [
       "       longitude  latitude  housing_median_age  total_rooms  total_bedrooms  \\\n",
       "14196    -117.22     32.75                34.0       6001.0          1111.0   \n",
       "8267     -117.03     32.69                10.0        901.0           163.0   \n",
       "17445    -122.27     37.74                28.0       6909.0          1554.0   \n",
       "14265    -121.82     37.25                25.0       4021.0           634.0   \n",
       "2271     -115.98     33.32                 8.0        240.0            46.0   \n",
       "\n",
       "       population  households  median_income  median_house_value  \\\n",
       "14196      2654.0      1072.0         4.5878            291000.0   \n",
       "8267        698.0       167.0         4.6648            156100.0   \n",
       "17445      2974.0      1484.0         3.6875            353900.0   \n",
       "14265      2178.0       650.0         5.1663            241200.0   \n",
       "2271         63.0        24.0         1.4688             53800.0   \n",
       "\n",
       "      ocean_proximity  \n",
       "14196      NEAR OCEAN  \n",
       "8267       NEAR OCEAN  \n",
       "17445        NEAR BAY  \n",
       "14265       <1H OCEAN  \n",
       "2271           INLAND  "
      ]
     },
     "execution_count": 10,
     "metadata": {},
     "output_type": "execute_result"
    }
   ],
   "source": [
    "train_set, test_set = shuffle_and_split_data(housing, 0.2)\n",
    "train_set.head()"
   ]
  },
  {
   "cell_type": "code",
   "execution_count": 11,
   "id": "f1162b96-27e8-4ce6-a58a-9fc7d068fad5",
   "metadata": {},
   "outputs": [
    {
     "data": {
      "text/html": [
       "<div>\n",
       "<style scoped>\n",
       "    .dataframe tbody tr th:only-of-type {\n",
       "        vertical-align: middle;\n",
       "    }\n",
       "\n",
       "    .dataframe tbody tr th {\n",
       "        vertical-align: top;\n",
       "    }\n",
       "\n",
       "    .dataframe thead th {\n",
       "        text-align: right;\n",
       "    }\n",
       "</style>\n",
       "<table border=\"1\" class=\"dataframe\">\n",
       "  <thead>\n",
       "    <tr style=\"text-align: right;\">\n",
       "      <th></th>\n",
       "      <th>longitude</th>\n",
       "      <th>latitude</th>\n",
       "      <th>housing_median_age</th>\n",
       "      <th>total_rooms</th>\n",
       "      <th>total_bedrooms</th>\n",
       "      <th>population</th>\n",
       "      <th>households</th>\n",
       "      <th>median_income</th>\n",
       "      <th>median_house_value</th>\n",
       "      <th>ocean_proximity</th>\n",
       "    </tr>\n",
       "  </thead>\n",
       "  <tbody>\n",
       "    <tr>\n",
       "      <th>14196</th>\n",
       "      <td>-117.22</td>\n",
       "      <td>32.75</td>\n",
       "      <td>34.0</td>\n",
       "      <td>6001.0</td>\n",
       "      <td>1111.0</td>\n",
       "      <td>2654.0</td>\n",
       "      <td>1072.0</td>\n",
       "      <td>4.5878</td>\n",
       "      <td>291000.0</td>\n",
       "      <td>NEAR OCEAN</td>\n",
       "    </tr>\n",
       "    <tr>\n",
       "      <th>8267</th>\n",
       "      <td>-117.03</td>\n",
       "      <td>32.69</td>\n",
       "      <td>10.0</td>\n",
       "      <td>901.0</td>\n",
       "      <td>163.0</td>\n",
       "      <td>698.0</td>\n",
       "      <td>167.0</td>\n",
       "      <td>4.6648</td>\n",
       "      <td>156100.0</td>\n",
       "      <td>NEAR OCEAN</td>\n",
       "    </tr>\n",
       "    <tr>\n",
       "      <th>17445</th>\n",
       "      <td>-122.27</td>\n",
       "      <td>37.74</td>\n",
       "      <td>28.0</td>\n",
       "      <td>6909.0</td>\n",
       "      <td>1554.0</td>\n",
       "      <td>2974.0</td>\n",
       "      <td>1484.0</td>\n",
       "      <td>3.6875</td>\n",
       "      <td>353900.0</td>\n",
       "      <td>NEAR BAY</td>\n",
       "    </tr>\n",
       "    <tr>\n",
       "      <th>14265</th>\n",
       "      <td>-121.82</td>\n",
       "      <td>37.25</td>\n",
       "      <td>25.0</td>\n",
       "      <td>4021.0</td>\n",
       "      <td>634.0</td>\n",
       "      <td>2178.0</td>\n",
       "      <td>650.0</td>\n",
       "      <td>5.1663</td>\n",
       "      <td>241200.0</td>\n",
       "      <td>&lt;1H OCEAN</td>\n",
       "    </tr>\n",
       "    <tr>\n",
       "      <th>2271</th>\n",
       "      <td>-115.98</td>\n",
       "      <td>33.32</td>\n",
       "      <td>8.0</td>\n",
       "      <td>240.0</td>\n",
       "      <td>46.0</td>\n",
       "      <td>63.0</td>\n",
       "      <td>24.0</td>\n",
       "      <td>1.4688</td>\n",
       "      <td>53800.0</td>\n",
       "      <td>INLAND</td>\n",
       "    </tr>\n",
       "  </tbody>\n",
       "</table>\n",
       "</div>"
      ],
      "text/plain": [
       "       longitude  latitude  housing_median_age  total_rooms  total_bedrooms  \\\n",
       "14196    -117.22     32.75                34.0       6001.0          1111.0   \n",
       "8267     -117.03     32.69                10.0        901.0           163.0   \n",
       "17445    -122.27     37.74                28.0       6909.0          1554.0   \n",
       "14265    -121.82     37.25                25.0       4021.0           634.0   \n",
       "2271     -115.98     33.32                 8.0        240.0            46.0   \n",
       "\n",
       "       population  households  median_income  median_house_value  \\\n",
       "14196      2654.0      1072.0         4.5878            291000.0   \n",
       "8267        698.0       167.0         4.6648            156100.0   \n",
       "17445      2974.0      1484.0         3.6875            353900.0   \n",
       "14265      2178.0       650.0         5.1663            241200.0   \n",
       "2271         63.0        24.0         1.4688             53800.0   \n",
       "\n",
       "      ocean_proximity  \n",
       "14196      NEAR OCEAN  \n",
       "8267       NEAR OCEAN  \n",
       "17445        NEAR BAY  \n",
       "14265       <1H OCEAN  \n",
       "2271           INLAND  "
      ]
     },
     "execution_count": 11,
     "metadata": {},
     "output_type": "execute_result"
    }
   ],
   "source": [
    "train_set, test_set = shuffle_and_split_data(housing, 0.2)\n",
    "train_set.head()"
   ]
  },
  {
   "cell_type": "markdown",
   "id": "35d139d2-afe1-4ecc-92e9-cce7de171825",
   "metadata": {},
   "source": [
    "Now the splits are deterministic.\n",
    "\n",
    "However, there's another issue with this approach to splitting data. If the data gets updated by adding new samples to the dataset, our inputs will again be shuffled in a different way, so the train and test sets items will not persist. It would be better if only the new samples in the dataset get shuffled and added to our current train and test sets.\n",
    "\n",
    "To achieve this, we could assing an id to each sample, and use this id to generate a random value to be used to split the data. A good candidate for id would be `longitude + latitude` since the combination of those fields will not change if the dataset is updated, and the value should not be repeated."
   ]
  },
  {
   "cell_type": "code",
   "execution_count": 12,
   "id": "73e162ae-d365-4d05-9076-257f5046323e",
   "metadata": {},
   "outputs": [],
   "source": [
    "from zlib import crc32\n",
    "\n",
    "def is_id_in_test_set(identifier, test_ratio):\n",
    "    return crc32(np.int64(identifier)) < test_ratio * 2**32\n",
    "\n",
    "def split_data_with_id_hash(data, test_ratio, id_column):\n",
    "    ids = data[id_column]\n",
    "    is_in_test_set = ids.apply(lambda id_: is_id_in_test_set(id_, test_ratio))\n",
    "\n",
    "    return data[~is_in_test_set], data[is_in_test_set]"
   ]
  },
  {
   "cell_type": "code",
   "execution_count": 13,
   "id": "780f74a4-455e-4b3a-9c4b-76ee5d9f8d9c",
   "metadata": {},
   "outputs": [
    {
     "name": "stdout",
     "output_type": "stream",
     "text": [
      "(20640, 11)\n",
      "(3967, 11)\n",
      "(16673, 11)\n"
     ]
    },
    {
     "data": {
      "text/html": [
       "<div>\n",
       "<style scoped>\n",
       "    .dataframe tbody tr th:only-of-type {\n",
       "        vertical-align: middle;\n",
       "    }\n",
       "\n",
       "    .dataframe tbody tr th {\n",
       "        vertical-align: top;\n",
       "    }\n",
       "\n",
       "    .dataframe thead th {\n",
       "        text-align: right;\n",
       "    }\n",
       "</style>\n",
       "<table border=\"1\" class=\"dataframe\">\n",
       "  <thead>\n",
       "    <tr style=\"text-align: right;\">\n",
       "      <th></th>\n",
       "      <th>longitude</th>\n",
       "      <th>latitude</th>\n",
       "      <th>housing_median_age</th>\n",
       "      <th>total_rooms</th>\n",
       "      <th>total_bedrooms</th>\n",
       "      <th>population</th>\n",
       "      <th>households</th>\n",
       "      <th>median_income</th>\n",
       "      <th>median_house_value</th>\n",
       "      <th>ocean_proximity</th>\n",
       "      <th>id</th>\n",
       "    </tr>\n",
       "  </thead>\n",
       "  <tbody>\n",
       "    <tr>\n",
       "      <th>0</th>\n",
       "      <td>-122.23</td>\n",
       "      <td>37.88</td>\n",
       "      <td>41.0</td>\n",
       "      <td>880.0</td>\n",
       "      <td>129.0</td>\n",
       "      <td>322.0</td>\n",
       "      <td>126.0</td>\n",
       "      <td>8.3252</td>\n",
       "      <td>452600.0</td>\n",
       "      <td>NEAR BAY</td>\n",
       "      <td>-12222962.12</td>\n",
       "    </tr>\n",
       "    <tr>\n",
       "      <th>1</th>\n",
       "      <td>-122.22</td>\n",
       "      <td>37.86</td>\n",
       "      <td>21.0</td>\n",
       "      <td>7099.0</td>\n",
       "      <td>1106.0</td>\n",
       "      <td>2401.0</td>\n",
       "      <td>1138.0</td>\n",
       "      <td>8.3014</td>\n",
       "      <td>358500.0</td>\n",
       "      <td>NEAR BAY</td>\n",
       "      <td>-12221962.14</td>\n",
       "    </tr>\n",
       "    <tr>\n",
       "      <th>2</th>\n",
       "      <td>-122.24</td>\n",
       "      <td>37.85</td>\n",
       "      <td>52.0</td>\n",
       "      <td>1467.0</td>\n",
       "      <td>190.0</td>\n",
       "      <td>496.0</td>\n",
       "      <td>177.0</td>\n",
       "      <td>7.2574</td>\n",
       "      <td>352100.0</td>\n",
       "      <td>NEAR BAY</td>\n",
       "      <td>-12223962.15</td>\n",
       "    </tr>\n",
       "    <tr>\n",
       "      <th>8</th>\n",
       "      <td>-122.26</td>\n",
       "      <td>37.84</td>\n",
       "      <td>42.0</td>\n",
       "      <td>2555.0</td>\n",
       "      <td>665.0</td>\n",
       "      <td>1206.0</td>\n",
       "      <td>595.0</td>\n",
       "      <td>2.0804</td>\n",
       "      <td>226700.0</td>\n",
       "      <td>NEAR BAY</td>\n",
       "      <td>-12225962.16</td>\n",
       "    </tr>\n",
       "    <tr>\n",
       "      <th>10</th>\n",
       "      <td>-122.26</td>\n",
       "      <td>37.85</td>\n",
       "      <td>52.0</td>\n",
       "      <td>2202.0</td>\n",
       "      <td>434.0</td>\n",
       "      <td>910.0</td>\n",
       "      <td>402.0</td>\n",
       "      <td>3.2031</td>\n",
       "      <td>281500.0</td>\n",
       "      <td>NEAR BAY</td>\n",
       "      <td>-12225962.15</td>\n",
       "    </tr>\n",
       "  </tbody>\n",
       "</table>\n",
       "</div>"
      ],
      "text/plain": [
       "    longitude  latitude  housing_median_age  total_rooms  total_bedrooms  \\\n",
       "0     -122.23     37.88                41.0        880.0           129.0   \n",
       "1     -122.22     37.86                21.0       7099.0          1106.0   \n",
       "2     -122.24     37.85                52.0       1467.0           190.0   \n",
       "8     -122.26     37.84                42.0       2555.0           665.0   \n",
       "10    -122.26     37.85                52.0       2202.0           434.0   \n",
       "\n",
       "    population  households  median_income  median_house_value ocean_proximity  \\\n",
       "0        322.0       126.0         8.3252            452600.0        NEAR BAY   \n",
       "1       2401.0      1138.0         8.3014            358500.0        NEAR BAY   \n",
       "2        496.0       177.0         7.2574            352100.0        NEAR BAY   \n",
       "8       1206.0       595.0         2.0804            226700.0        NEAR BAY   \n",
       "10       910.0       402.0         3.2031            281500.0        NEAR BAY   \n",
       "\n",
       "             id  \n",
       "0  -12222962.12  \n",
       "1  -12221962.14  \n",
       "2  -12223962.15  \n",
       "8  -12225962.16  \n",
       "10 -12225962.15  "
      ]
     },
     "execution_count": 13,
     "metadata": {},
     "output_type": "execute_result"
    }
   ],
   "source": [
    "housing['id'] = housing['longitude'] * 100000 + housing['latitude']\n",
    "\n",
    "train_set, test_set = split_data_with_id_hash(housing, 0.2, 'id')\n",
    "print(housing.shape)\n",
    "print(test_set.shape)\n",
    "print(train_set.shape)\n",
    "\n",
    "train_set.head()"
   ]
  },
  {
   "cell_type": "markdown",
   "id": "e2b4dedf-8f2d-4785-ac9a-9b001d40fc9f",
   "metadata": {},
   "source": [
    "Now any new sample will be included in the test or training set deterministically and according to the specified ratio for test data.\n",
    "\n",
    "Something to note is that the split has not been 80% - 20% exactly, that happens because we are relying on the probability of the generated crc32 code to be less than the value in the lower 20% of all possible values. The more samples we have the more we will approach to the specified ratio."
   ]
  },
  {
   "cell_type": "markdown",
   "id": "755a555a-ae5c-43df-a450-8894a6bc7788",
   "metadata": {},
   "source": [
    "### Avoiding sampling bias\n",
    "\n",
    "We are told that the `median_income` attribute is very important to predict the `median_housing_price`, so we want to ensure that the test set is representative of the different values that `median_income` can take. Since the attribute is continuous, we will have to make categories out of it.\n",
    "\n",
    "Lets look at the values again:"
   ]
  },
  {
   "cell_type": "code",
   "execution_count": 14,
   "id": "d37e190c-0791-439a-957e-d3db098c4253",
   "metadata": {},
   "outputs": [
    {
     "data": {
      "text/plain": [
       "<Axes: >"
      ]
     },
     "execution_count": 14,
     "metadata": {},
     "output_type": "execute_result"
    },
    {
     "data": {
      "image/png": "[encoded data removed]",
      "text/plain": [
       "<Figure size 640x480 with 1 Axes>"
      ]
     },
     "metadata": {},
     "output_type": "display_data"
    }
   ],
   "source": [
    "housing['median_income'].hist(bins=50)"
   ]
  },
  {
   "cell_type": "markdown",
   "id": "3ce769a9-c5cb-485f-8476-5c6f1355cf16",
   "metadata": {},
   "source": [
    "Most median income values are between 1.5 and 6. We will divide the values into categories to ensure that each category is large enough to be representative"
   ]
  },
  {
   "cell_type": "code",
   "execution_count": 15,
   "id": "bf87b9e2-b65b-4be6-8c2a-d76089453e19",
   "metadata": {},
   "outputs": [],
   "source": [
    "housing['income_cat'] = pd.cut(housing['median_income'],\n",
    "                               bins=[0.0, 1.5, 3.0, 4.5, 6.0, np.inf],\n",
    "                               labels=[1, 2, 3, 4, 5])"
   ]
  },
  {
   "cell_type": "code",
   "execution_count": 16,
   "id": "39eeee9b-2cdb-4a57-bc89-a5d1abad7bb7",
   "metadata": {},
   "outputs": [
    {
     "data": {
      "image/png": "[encoded data removed]",
      "text/plain": [
       "<Figure size 640x480 with 1 Axes>"
      ]
     },
     "metadata": {},
     "output_type": "display_data"
    }
   ],
   "source": [
    "housing['income_cat'].value_counts().sort_index().plot.bar(rot=0)\n",
    "plt.xlabel('Income category')\n",
    "plt.ylabel('Number of districts')\n",
    "plt.show()"
   ]
  },
  {
   "cell_type": "code",
   "execution_count": 18,
   "id": "fce050ec-29b8-4de8-96c8-88aa02462858",
   "metadata": {},
   "outputs": [],
   "source": [
    "from sklearn.model_selection import train_test_split\n",
    "strat_train_set, strat_test_set = train_test_split(housing, test_size=0.2, stratify=housing['income_cat'], random_state=42)"
   ]
  },
  {
   "cell_type": "markdown",
   "id": "5dd20fe0-9da4-4a90-8e2b-79b2b53ee001",
   "metadata": {},
   "source": [
    "Comparison of the % of samples in each income category between the whole dataset, the stratified split and the non stratified split:"
   ]
  },
  {
   "cell_type": "code",
   "execution_count": 25,
   "id": "2c7ea334-31e0-4109-8370-300d6df06d5b",
   "metadata": {},
   "outputs": [
    {
     "data": {
      "text/plain": [
       "income_cat\n",
       "3    0.350581\n",
       "2    0.318847\n",
       "4    0.176308\n",
       "5    0.114438\n",
       "1    0.039826\n",
       "Name: count, dtype: float64"
      ]
     },
     "execution_count": 25,
     "metadata": {},
     "output_type": "execute_result"
    }
   ],
   "source": [
    "housing['income_cat'].value_counts() / len(housing)"
   ]
  },
  {
   "cell_type": "code",
   "execution_count": 21,
   "id": "f97ae59f-94c3-48d0-93ac-716506f7b723",
   "metadata": {},
   "outputs": [
    {
     "data": {
      "text/plain": [
       "income_cat\n",
       "3    0.350533\n",
       "2    0.318798\n",
       "4    0.176357\n",
       "5    0.114341\n",
       "1    0.039971\n",
       "Name: count, dtype: float64"
      ]
     },
     "execution_count": 21,
     "metadata": {},
     "output_type": "execute_result"
    }
   ],
   "source": [
    "strat_test_set['income_cat'].value_counts() / len(strat_test_set)"
   ]
  },
  {
   "cell_type": "code",
   "execution_count": 24,
   "id": "be29fb55-2d54-456a-9a17-83ca5ddc7fee",
   "metadata": {},
   "outputs": [
    {
     "data": {
      "text/plain": [
       "income_cat\n",
       "3    0.345203\n",
       "2    0.307413\n",
       "4    0.184109\n",
       "5    0.120882\n",
       "1    0.042393\n",
       "Name: count, dtype: float64"
      ]
     },
     "execution_count": 24,
     "metadata": {},
     "output_type": "execute_result"
    }
   ],
   "source": [
    "non_strat_train_set, non_strat_test_set = train_test_split(housing, test_size=0.2, random_state=42)\n",
    "non_strat_test_set['income_cat'].value_counts() / len(non_strat_test_set)"
   ]
  },
  {
   "cell_type": "markdown",
   "id": "8be8743c-2aef-4df9-90d3-1b79b86bd08a",
   "metadata": {},
   "source": [
    "The percentages in the whole data and the stratified test set are almost the same"
   ]
  },
  {
   "cell_type": "markdown",
   "id": "9c57102d-b5bc-41ef-bdd0-6cc458b43280",
   "metadata": {},
   "source": [
    "Delete the `income_cat` attribute, as it will no longer be used"
   ]
  },
  {
   "cell_type": "code",
   "execution_count": 26,
   "id": "61ae4df9-f2a9-4482-8228-09ef25a7b5a2",
   "metadata": {},
   "outputs": [],
   "source": [
    "strat_train_set.drop('income_cat', axis=1, inplace=True)\n",
    "strat_test_set.drop('income_cat', axis=1, inplace=True)"
   ]
  },
  {
   "cell_type": "code",
   "execution_count": null,
   "id": "5d0a6d95-7d32-41b8-ac50-4800d3611d0f",
   "metadata": {},
   "outputs": [],
   "source": []
  },
  {
   "cell_type": "code",
   "execution_count": null,
   "id": "71184148-939f-4c94-9016-77fc5e72523f",
   "metadata": {},
   "outputs": [],
   "source": []
  },
  {
   "cell_type": "code",
   "execution_count": null,
   "id": "de49283a-dcf0-4482-a9a7-0101a35f6b31",
   "metadata": {},
   "outputs": [],
   "source": []
  },
  {
   "cell_type": "code",
   "execution_count": null,
   "id": "ebeeac4d-236a-4fc3-b927-907bf8e5d2ed",
   "metadata": {},
   "outputs": [],
   "source": []
  },
  {
   "cell_type": "code",
   "execution_count": null,
   "id": "7b5e33b3-b74e-472e-bdff-4a6aa09094f3",
   "metadata": {},
   "outputs": [],
   "source": []
  },
  {
   "cell_type": "code",
   "execution_count": null,
   "id": "cfed0c39-da6b-4ae1-82b6-f221bf81a370",
   "metadata": {},
   "outputs": [],
   "source": []
  },
  {
   "cell_type": "code",
   "execution_count": null,
   "id": "1dd1769c-6d06-4071-a73d-f59b6630ea64",
   "metadata": {},
   "outputs": [],
   "source": []
  },
  {
   "cell_type": "code",
   "execution_count": null,
   "id": "5d5453c2-c80d-4977-93a0-011c4ed8ed48",
   "metadata": {},
   "outputs": [],
   "source": []
  },
  {
   "cell_type": "code",
   "execution_count": null,
   "id": "8b53cc32-2c53-4253-82bf-77038fde2613",
   "metadata": {},
   "outputs": [],
   "source": []
  },
  {
   "cell_type": "code",
   "execution_count": null,
   "id": "2df77da5-380f-466e-9a2e-2b78a08aad73",
   "metadata": {},
   "outputs": [],
   "source": []
  },
  {
   "cell_type": "code",
   "execution_count": null,
   "id": "bee6d78e-07d8-45e6-8dff-9ecd3d8281d8",
   "metadata": {},
   "outputs": [],
   "source": []
  },
  {
   "cell_type": "code",
   "execution_count": null,
   "id": "b0e67c37-75c9-4252-ac4a-106cb1780d94",
   "metadata": {},
   "outputs": [],
   "source": []
  },
  {
   "cell_type": "code",
   "execution_count": null,
   "id": "4d212bbc-e9f0-48d5-a82c-4f9dfc94f8f5",
   "metadata": {},
   "outputs": [],
   "source": []
  },
  {
   "cell_type": "code",
   "execution_count": null,
   "id": "f5b43bd0-67ce-45b9-9002-b602e70d0231",
   "metadata": {},
   "outputs": [],
   "source": []
  },
  {
   "cell_type": "code",
   "execution_count": null,
   "id": "6711b643-0312-4529-bf61-61ff1b64a0d0",
   "metadata": {},
   "outputs": [],
   "source": []
  },
  {
   "cell_type": "code",
   "execution_count": null,
   "id": "617f61c7-49f6-4fb5-8fcb-6a35d3a79588",
   "metadata": {},
   "outputs": [],
   "source": []
  },
  {
   "cell_type": "code",
   "execution_count": null,
   "id": "18a1ee6a-e02a-46e5-8377-979878c48e99",
   "metadata": {},
   "outputs": [],
   "source": []
  },
  {
   "cell_type": "code",
   "execution_count": null,
   "id": "6fc64251-f897-43e1-a70a-d877d5f8daf5",
   "metadata": {},
   "outputs": [],
   "source": []
  }
 ],
 "metadata": {
  "kernelspec": {
   "display_name": "Python 3 (ipykernel)",
   "language": "python",
   "name": "python3"
  },
  "language_info": {
   "codemirror_mode": {
    "name": "ipython",
    "version": 3
   },
   "file_extension": ".py",
   "mimetype": "text/x-python",
   "name": "python",
   "nbconvert_exporter": "python",
   "pygments_lexer": "ipython3",
   "version": "3.13.8"
  }
 },
 "nbformat": 4,
 "nbformat_minor": 5
}
